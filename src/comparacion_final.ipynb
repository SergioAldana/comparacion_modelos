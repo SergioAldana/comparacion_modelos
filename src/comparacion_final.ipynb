{
 "cells": [
  {
   "cell_type": "markdown",
   "id": "9dbe6607",
   "metadata": {},
   "source": [
    "# Comparación\n",
    "\n",
    "<p align='justify'>\n",
    "    Se concluyó que el modelo que más precisión tiene en la predicción de los datos, es el modelo de Regresión Lineal, con un valor aproximadamente del 0.80 de precisión en los resultados. Seguido del modelo MLP, el cual nos dio un promedio de precisión en los datos de 0.78 usando la función de activación tangente hiperbólica (Tanh); por último, el modelo de Clasificación fue el que menos precisión demostró con un 0.704, teniendo poco menos de 0.30 de errores en los resultados arrojados.\n",
    "</p>\n",
    "<p align='justify'>\n",
    "En los tres modelos probados se puede concluir que ninguno nos dio un 100% de precisión en los datos y por lo tanto no se presenta un sobreentrenamiento en los datos. \n",
    "</p>\n"
   ]
  }
 ],
 "metadata": {
  "kernelspec": {
   "display_name": "Python 3 (ipykernel)",
   "language": "python",
   "name": "python3"
  },
  "language_info": {
   "codemirror_mode": {
    "name": "ipython",
    "version": 3
   },
   "file_extension": ".py",
   "mimetype": "text/x-python",
   "name": "python",
   "nbconvert_exporter": "python",
   "pygments_lexer": "ipython3",
   "version": "3.9.12"
  }
 },
 "nbformat": 4,
 "nbformat_minor": 5
}
