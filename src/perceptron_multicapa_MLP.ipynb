{
 "cells": [
  {
   "cell_type": "markdown",
   "id": "09fccd88",
   "metadata": {},
   "source": [
    "## Perceptrón multicapa (MLP)\n",
    "\n",
    "[Multilayer perceptor in scikit](https://scikit-learn.org/stable/modules/neural_networks_supervised.html)"
   ]
  },
  {
   "cell_type": "code",
   "execution_count": 60,
   "id": "cc3c73a1",
   "metadata": {},
   "outputs": [
    {
     "name": "stdout",
     "output_type": "stream",
     "text": [
      "(306, 4)\n",
      "    age  year_operation  nodes_detected  over_5_years\n",
      "0    30              64               1             1\n",
      "1    30              62               3             1\n",
      "2    30              65               0             1\n",
      "3    31              59               2             1\n",
      "4    31              65               4             1\n",
      "5    33              58              10             1\n",
      "6    33              60               0             1\n",
      "7    34              59               0             2\n",
      "8    34              66               9             2\n",
      "9    34              58              30             1\n",
      "10   34              60               1             1\n",
      "11   34              61              10             1\n",
      "12   34              67               7             1\n",
      "13   34              60               0             1\n",
      "14   35              64              13             1\n",
      "15   35              63               0             1\n",
      "16   36              60               1             1\n",
      "17   36              69               0             1\n",
      "18   37              60               0             1\n",
      "19   37              63               0             1\n"
     ]
    }
   ],
   "source": [
    "import pandas as pd\n",
    "import matplotlib.pyplot as plt\n",
    "import numpy as np\n",
    "from sklearn.metrics import confusion_matrix\n",
    "# De acuerdo a la versión scikit train_test_split puede ser\n",
    "from sklearn.model_selection import train_test_split, cross_val_score\n",
    "from sklearn.neural_network import MLPClassifier\n",
    "\n",
    "conjunto_datos = pd.read_csv('sample_data/haberman - haberman.csv')\n",
    "\n",
    "print(conjunto_datos.shape)\n",
    "print (conjunto_datos.head(20))"
   ]
  },
  {
   "cell_type": "code",
   "execution_count": null,
   "id": "9fab487f",
   "metadata": {},
   "outputs": [],
   "source": []
  }
 ],
 "metadata": {
  "kernelspec": {
   "display_name": "Python 3 (ipykernel)",
   "language": "python",
   "name": "python3"
  },
  "language_info": {
   "codemirror_mode": {
    "name": "ipython",
    "version": 3
   },
   "file_extension": ".py",
   "mimetype": "text/x-python",
   "name": "python",
   "nbconvert_exporter": "python",
   "pygments_lexer": "ipython3",
   "version": "3.9.12"
  }
 },
 "nbformat": 4,
 "nbformat_minor": 5
}
