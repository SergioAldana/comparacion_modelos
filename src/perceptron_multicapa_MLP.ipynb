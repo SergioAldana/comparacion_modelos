{
 "cells": [
  {
   "cell_type": "markdown",
   "id": "09fccd88",
   "metadata": {},
   "source": [
    "## Perceptrón multicapa (MLP)\n",
    "\n",
    "[Multilayer perceptor in scikit](https://scikit-learn.org/stable/modules/neural_networks_supervised.html)"
   ]
  },
  {
   "cell_type": "code",
   "execution_count": 2,
   "id": "cc3c73a1",
   "metadata": {},
   "outputs": [
    {
     "name": "stdout",
     "output_type": "stream",
     "text": [
      "(306, 4)\n",
      "    age  year_operation  nodes_detected  over_5_years\n",
      "0    30              64               1             1\n",
      "1    30              62               3             1\n",
      "2    30              65               0             1\n",
      "3    31              59               2             1\n",
      "4    31              65               4             1\n",
      "5    33              58              10             1\n",
      "6    33              60               0             1\n",
      "7    34              59               0             2\n",
      "8    34              66               9             2\n",
      "9    34              58              30             1\n",
      "10   34              60               1             1\n",
      "11   34              61              10             1\n",
      "12   34              67               7             1\n",
      "13   34              60               0             1\n",
      "14   35              64              13             1\n",
      "15   35              63               0             1\n",
      "16   36              60               1             1\n",
      "17   36              69               0             1\n",
      "18   37              60               0             1\n",
      "19   37              63               0             1\n"
     ]
    }
   ],
   "source": [
    "import pandas as pd\n",
    "import matplotlib.pyplot as plt\n",
    "import numpy as np\n",
    "from sklearn.metrics import confusion_matrix\n",
    "# De acuerdo a la versión scikit train_test_split puede ser\n",
    "from sklearn.model_selection import train_test_split, cross_val_score\n",
    "from sklearn.neural_network import MLPClassifier\n",
    "\n",
    "conjunto_datos = pd.read_csv('sample_data/haberman - haberman.csv')\n",
    "\n",
    "print(conjunto_datos.shape)\n",
    "print (conjunto_datos.head(20))"
   ]
  },
  {
   "cell_type": "code",
   "execution_count": 4,
   "id": "9fab487f",
   "metadata": {},
   "outputs": [
    {
     "data": {
      "text/plain": [
       "(91, 3)"
      ]
     },
     "execution_count": 4,
     "metadata": {},
     "output_type": "execute_result"
    }
   ],
   "source": [
    "# Se delimitan únicamente las columnas de interés\n",
    "X = conjunto_datos[['age', 'year_operation', 'nodes_detected']].values\n",
    "# X_uno = conjunto_datos.iloc[:, :2]\n",
    "y = conjunto_datos['over_5_years'].values.reshape(-1, 1)\n",
    "\n",
    "# Verificación de los datos por consola\n",
    "# print(\"Incio: \", X)\n",
    "# print(\"Incio: \", X_uno)\n",
    "# print(\"Incio: \",  y)\n",
    "\n",
    "X_train, X_test, y_train, y_test = train_test_split(X, y, test_size = 0.7, random_state = 0)\n",
    "X_train.shape"
   ]
  },
  {
   "cell_type": "code",
   "execution_count": 6,
   "id": "52ce8658",
   "metadata": {},
   "outputs": [
    {
     "name": "stdout",
     "output_type": "stream",
     "text": [
      "MLP logistic\n",
      "[0.69659443 0.75757576 0.75757576 0.75757576 0.75757576]\n",
      "promedio 0.745, desviación estándar 0.024\n",
      "MLP tanh\n",
      "[0.88048246 0.75757576 0.81935484 0.66666667 0.79761905]\n",
      "promedio 0.784, desviación estándar 0.071\n",
      "MLP relu\n",
      "[0.69659443 0.75757576 0.72916667 0.72916667 0.88888889]\n",
      "promedio 0.760, desviación estándar 0.067\n",
      "MLP relu / SGD/three layers\n",
      "[0.69659443 0.75757576 0.72916667 0.69892473 0.72916667]\n",
      "promedio 0.722, desviación estándar 0.023\n"
     ]
    }
   ],
   "source": [
    "# TODO: normalizar los datos \n",
    "names = ['MLP logistic', 'MLP tanh', 'MLP relu', 'MLP relu / SGD/three layers']\n",
    "clasificadores = [\n",
    "      MLPClassifier(activation = 'logistic', max_iter = 1000),\n",
    "      MLPClassifier(activation = 'tanh', max_iter = 1000),\n",
    "      MLPClassifier(activation = 'relu', max_iter = 1000),\n",
    "      MLPClassifier(activation = 'relu', solver = 'sgd', hidden_layer_sizes = (10, 100, 80), max_iter = 10000)]\n",
    "\n",
    "for clasificadores, name in zip(clasificadores, names):\n",
    "    print(name) \n",
    "    cv_score = cross_val_score(clasificadores, X_train, y_train, cv = 5, scoring = 'f1_weighted', n_jobs = -1)\n",
    "    print(cv_score)\n",
    "    print('promedio {a:5.3f}, desviación estándar {b:5.3f}'.format(a = cv_score.mean(), b = cv_score.std()))\n",
    "    \n",
    "#scoring parameters\n",
    "#https://scikit-learn.org/stable/modules/model_evaluation.html#scoring-parameter\n",
    "#https://scikit-learn.org/stable/modules/generated/sklearn.metrics.f1_score.html#sklearn.metrics.f1_score"
   ]
  },
  {
   "cell_type": "code",
   "execution_count": null,
   "id": "62689eba",
   "metadata": {},
   "outputs": [],
   "source": []
  }
 ],
 "metadata": {
  "kernelspec": {
   "display_name": "Python 3 (ipykernel)",
   "language": "python",
   "name": "python3"
  },
  "language_info": {
   "codemirror_mode": {
    "name": "ipython",
    "version": 3
   },
   "file_extension": ".py",
   "mimetype": "text/x-python",
   "name": "python",
   "nbconvert_exporter": "python",
   "pygments_lexer": "ipython3",
   "version": "3.9.12"
  }
 },
 "nbformat": 4,
 "nbformat_minor": 5
}
