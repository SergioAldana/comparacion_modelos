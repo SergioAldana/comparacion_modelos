{
 "cells": [
  {
   "cell_type": "markdown",
   "metadata": {
    "id": "5jR2CX0J7yDj"
   },
   "source": [
    "# Integrantes:\n",
    "\n",
    "* Sergio Aldana\n",
    "* Andres David Betancourt\n",
    "* Juan Herrera\n",
    "* Luis Eduardo Bonilla"
   ]
  },
  {
   "cell_type": "code",
   "execution_count": 11,
   "metadata": {
    "colab": {
     "base_uri": "https://localhost:8080/"
    },
    "id": "GdvgftUYmPcs",
    "outputId": "f7398fac-d101-481e-ada9-85d34cfba163"
   },
   "outputs": [
    {
     "name": "stdout",
     "output_type": "stream",
     "text": [
      "(306, 4)\n",
      "     age  year_operation  nodes_detected  over_5_years\n",
      "0     30              64               1             1\n",
      "1     30              62               3             1\n",
      "2     30              65               0             1\n",
      "3     31              59               2             1\n",
      "4     31              65               4             1\n",
      "..   ...             ...             ...           ...\n",
      "301   75              62               1             1\n",
      "302   76              67               0             1\n",
      "303   77              65               3             1\n",
      "304   78              65               1             2\n",
      "305   83              58               2             2\n",
      "\n",
      "[306 rows x 4 columns]\n"
     ]
    }
   ],
   "source": [
    "import pandas as pd\n",
    "import numpy as np\n",
    "from matplotlib import pyplot as plt\n",
    "from IPython.display import display, HTML\n",
    "\n",
    "# Análisis preliminar de datos\n",
    "cancer = pd.read_csv('sample_data/haberman - haberman.csv')\n",
    "\n",
    "print(cancer.shape)\n",
    "print(cancer.head(310))"
   ]
  },
  {
   "cell_type": "code",
   "execution_count": 12,
   "metadata": {
    "colab": {
     "base_uri": "https://localhost:8080/",
     "height": 764
    },
    "id": "Ewa-qIokvpgK",
    "outputId": "c021975c-fd62-4473-a67c-4f0b1e762ed3"
   },
   "outputs": [
    {
     "data": {
      "text/plain": [
       "<AxesSubplot:xlabel='nodes_detected', ylabel='over_5_years'>"
      ]
     },
     "execution_count": 12,
     "metadata": {},
     "output_type": "execute_result"
    },
    {
     "data": {
      "image/png": "[encoded data removed]",
      "text/plain": [
       "<Figure size 1080x576 with 1 Axes>"
      ]
     },
     "metadata": {
      "needs_background": "light"
     },
     "output_type": "display_data"
    },
    {
     "data": {
      "image/png": "[encoded data removed]",
      "text/plain": [
       "<Figure size 432x288 with 1 Axes>"
      ]
     },
     "metadata": {
      "needs_background": "light"
     },
     "output_type": "display_data"
    }
   ],
   "source": [
    "cancer.plot.box(figsize = (15, 8))\n",
    "cancer.describe()\n",
    "cancer.plot.scatter(x='nodes_detected',y='over_5_years')\n"
   ]
  },
  {
   "cell_type": "markdown",
   "metadata": {
    "id": "ZYw-Iagxt5RP"
   },
   "source": [
    "### **Preparación de los datos**"
   ]
  },
  {
   "cell_type": "code",
   "execution_count": 13,
   "metadata": {
    "id": "UYmaos3Tm5Bh"
   },
   "outputs": [],
   "source": [
    "from sklearn import linear_model\n",
    "from sklearn.model_selection import train_test_split\n",
    "# split training and text data\n",
    "x=cancer['age'].values.reshape(-1,1)\n",
    "u=cancer['year_operation'].values.reshape(-1,1)\n",
    "z=cancer['nodes_detected'].values.reshape(-1,1)\n",
    "y=cancer['over_5_years'].values.reshape(-1,1)\n",
    "#TODO: use train_test_split\n",
    "x_train, x_test, y_train, y_test, z_train, z_test, u_train, u_test = train_test_split(x,y,z,u, test_size=0.2, random_state=4200) "
   ]
  },
  {
   "cell_type": "code",
   "execution_count": 14,
   "metadata": {
    "colab": {
     "base_uri": "https://localhost:8080/"
    },
    "id": "96D_1hVkoMA_",
    "outputId": "79db10fd-e447-471b-f84f-21ea4e0fa723"
   },
   "outputs": [
    {
     "data": {
      "text/plain": [
       "(244, 1)"
      ]
     },
     "execution_count": 14,
     "metadata": {},
     "output_type": "execute_result"
    }
   ],
   "source": [
    "x_train.shape"
   ]
  },
  {
   "cell_type": "markdown",
   "metadata": {
    "id": "73Ani53vrVJL"
   },
   "source": [
    "# **Modeling**"
   ]
  },
  {
   "cell_type": "code",
   "execution_count": 15,
   "metadata": {
    "colab": {
     "base_uri": "https://localhost:8080/"
    },
    "id": "BdYqSYMOpquQ",
    "outputId": "5e02ee7c-b93e-4f52-b5a4-dc7bf0c8c42c"
   },
   "outputs": [
    {
     "data": {
      "text/plain": [
       "(244, 2)"
      ]
     },
     "execution_count": 15,
     "metadata": {},
     "output_type": "execute_result"
    }
   ],
   "source": [
    "n=x_train.shape[0]\n",
    "uno=np.ones((n,1))\n",
    "Phi=np.concatenate((x_train,uno), axis=1)\n",
    "Phi.shape"
   ]
  },
  {
   "cell_type": "code",
   "execution_count": 16,
   "metadata": {
    "colab": {
     "base_uri": "https://localhost:8080/"
    },
    "id": "6R2bW5anpzH8",
    "outputId": "82fca218-10c1-45ec-b9f3-9477b9a3891d"
   },
   "outputs": [
    {
     "data": {
      "text/plain": [
       "array([[0.00204009],\n",
       "       [1.1597819 ]])"
      ]
     },
     "execution_count": 16,
     "metadata": {},
     "output_type": "execute_result"
    }
   ],
   "source": [
    "\n",
    "inversa= np.linalg.inv(np.matmul(Phi.T,Phi))\n",
    "theta= np.matmul(inversa,np.matmul(Phi.T,y_train))\n",
    "theta"
   ]
  },
  {
   "cell_type": "code",
   "execution_count": 17,
   "metadata": {
    "id": "o0EYv-87uU_j"
   },
   "outputs": [],
   "source": [
    "import numpy as np\n",
    "def linear_regressor(Phi, theta):\n",
    "  return np.matmul(Phi, theta)\n",
    "\n",
    "def cost_function(y, y_hat, n):\n",
    "  return np.sum(np.square(y-y_hat))/n\n",
    "  \n",
    "def gradient(Phi, y, y_hat, n):\n",
    "  return (2.0/n)*np.matmul(Phi.T, y_hat-y)"
   ]
  },
  {
   "cell_type": "code",
   "execution_count": 18,
   "metadata": {
    "id": "voiBvqqNxDbv"
   },
   "outputs": [],
   "source": [
    "def fit_params(Phi, y, theta,learning_rate = 0.2e-2,tol=1e-5,max_iterations=10000):\n",
    "    #TODO: implement the cost and gradient functions\n",
    "    costs = [np.inf]\n",
    "    n=Phi.shape[0]\n",
    "    for i in range(0, max_iterations):\n",
    "        y_hat=linear_regressor(Phi,theta)  \n",
    "        my_cost = cost_function(y,y_hat,n)\n",
    "        if abs(my_cost - costs[-1]) < tol:\n",
    "            break\n",
    "        else:\n",
    "            my_gradient = gradient(Phi, y, y_hat, n)\n",
    "            theta = theta - learning_rate * my_gradient\n",
    "            costs.append(my_cost)           \n",
    "    return theta, costs"
   ]
  },
  {
   "cell_type": "code",
   "execution_count": 19,
   "metadata": {
    "colab": {
     "base_uri": "https://localhost:8080/"
    },
    "id": "MM5lKMtRxSh3",
    "outputId": "37b7688c-f2c7-4b1f-ec42-3c62ae5acd3e"
   },
   "outputs": [
    {
     "name": "stdout",
     "output_type": "stream",
     "text": [
      "[[1.1607102 ]\n",
      " [0.47524616]]\n"
     ]
    },
    {
     "name": "stderr",
     "output_type": "stream",
     "text": [
      "C:\\Users\\Maestro\\AppData\\Local\\Temp\\ipykernel_2940\\582242566.py:6: RuntimeWarning: overflow encountered in square\n",
      "  return np.sum(np.square(y-y_hat))/n\n",
      "C:\\Users\\Maestro\\AppData\\Local\\Temp\\ipykernel_2940\\1752444171.py:8: RuntimeWarning: invalid value encountered in double_scalars\n",
      "  if abs(my_cost - costs[-1]) < tol:\n",
      "C:\\Users\\Maestro\\AppData\\Local\\Temp\\ipykernel_2940\\582242566.py:9: RuntimeWarning: overflow encountered in matmul\n",
      "  return (2.0/n)*np.matmul(Phi.T, y_hat-y)\n",
      "C:\\Users\\Maestro\\AppData\\Local\\Temp\\ipykernel_2940\\1752444171.py:12: RuntimeWarning: invalid value encountered in subtract\n",
      "  theta = theta - learning_rate * my_gradient\n"
     ]
    },
    {
     "data": {
      "text/plain": [
       "array([[nan],\n",
       "       [nan]])"
      ]
     },
     "execution_count": 19,
     "metadata": {},
     "output_type": "execute_result"
    }
   ],
   "source": [
    "new_t = np.random.normal(size=(2,1 )).astype(np.float32)\n",
    "print(new_t)\n",
    "theta_hat, outcost = fit_params(Phi,y_train,new_t,learning_rate = .5e-2)\n",
    "theta_hat"
   ]
  },
  {
   "cell_type": "code",
   "execution_count": 20,
   "metadata": {
    "colab": {
     "base_uri": "https://localhost:8080/",
     "height": 298
    },
    "id": "sSD8-8k_x98a",
    "outputId": "9b56cd0e-ac43-4f18-8608-dfc373c305f2"
   },
   "outputs": [
    {
     "data": {
      "text/plain": [
       "Text(0.5, 1.0, 'cancer')"
      ]
     },
     "execution_count": 20,
     "metadata": {},
     "output_type": "execute_result"
    },
    {
     "data": {
      "image/png": "[encoded data removed]",
      "text/plain": [
       "<Figure size 432x288 with 1 Axes>"
      ]
     },
     "metadata": {
      "needs_background": "light"
     },
     "output_type": "display_data"
    }
   ],
   "source": [
    "import matplotlib.pyplot as plt\n",
    "\n",
    "plt.plot(outcost)\n",
    "plt.title('cancer')"
   ]
  },
  {
   "cell_type": "code",
   "execution_count": 21,
   "metadata": {
    "colab": {
     "base_uri": "https://localhost:8080/"
    },
    "id": "YoXqKRpo2wfe",
    "outputId": "af45cad5-e963-4558-c7c9-a06d5cd17630"
   },
   "outputs": [
    {
     "name": "stdout",
     "output_type": "stream",
     "text": [
      "Coefficients:  [[0.00204009]]\n",
      "Intercept:  [1.1597819]\n"
     ]
    }
   ],
   "source": [
    "regr= linear_model.LinearRegression()\n",
    "\n",
    "regr.fit(x_train,y_train)\n",
    "\n",
    "print('Coefficients: ', regr.coef_)\n",
    "print('Intercept: ', regr.intercept_)"
   ]
  },
  {
   "cell_type": "code",
   "execution_count": 22,
   "metadata": {
    "id": "mI_u9xyCpdrc"
   },
   "outputs": [],
   "source": [
    "from sklearn.metrics import accuracy_score,median_absolute_error\n",
    "from sklearn.metrics import mean_squared_error, mean_absolute_error\n",
    "from sklearn.metrics import r2_score,mean_squared_log_error,explained_variance_score\n",
    "\n",
    "\n",
    "def test_model(e,y_test,regr):\n",
    "  #prediction\n",
    "  y_pred=regr.predict(e)\n",
    "  ##graficas\n",
    "\n",
    "  plt.scatter(e, y_test,  color='black')\n",
    "  plt.plot(e, y_pred, color='blue',linewidth=3)\n",
    "  plt.xlabel('input')\n",
    "  plt.ylabel('output')\n",
    "\n",
    "\n",
    " \n",
    "  print('{0:30} | {1:9.2f}'.format('regressor score', regr.score(e,y_test)))\n",
    "  print('{0:30} | {1:9.2f}'.format('Mean squared error', np.mean((y_pred - y_test) ** 2)))\n",
    "  print('{0:30} | {1:9.2f}'.format('Mean absolute error', np.mean(y_test - y_pred)))\n",
    "\n"
   ]
  },
  {
   "cell_type": "code",
   "execution_count": 23,
   "metadata": {
    "colab": {
     "base_uri": "https://localhost:8080/",
     "height": 331
    },
    "id": "yHoCjPq2pwzc",
    "outputId": "39261f9c-6699-4d86-c9b4-fbb83bcf309c"
   },
   "outputs": [
    {
     "name": "stdout",
     "output_type": "stream",
     "text": [
      "regressor score                |     -0.03\n",
      "Mean squared error             |      0.20\n",
      "Mean absolute error            |      0.09\n"
     ]
    },
    {
     "data": {
      "image/png": "[encoded data removed]",
      "text/plain": [
       "<Figure size 432x288 with 1 Axes>"
      ]
     },
     "metadata": {
      "needs_background": "light"
     },
     "output_type": "display_data"
    }
   ],
   "source": [
    "  test_model(z_test,y_test,regr)"
   ]
  },
  {
   "cell_type": "markdown",
   "metadata": {
    "id": "AypbXOaBsA33"
   },
   "source": [
    "# Implementacion"
   ]
  },
  {
   "cell_type": "code",
   "execution_count": 24,
   "metadata": {
    "id": "cHdfbWW4sELk"
   },
   "outputs": [],
   "source": [
    "def conversor(y):\n",
    "  return regr.predict(y)"
   ]
  },
  {
   "cell_type": "code",
   "execution_count": 25,
   "metadata": {
    "id": "slnctsVVsLc-"
   },
   "outputs": [],
   "source": [
    "import pickle #for save the model\n",
    "\n",
    "name_file='water_lab.pkl'\n",
    "myfile = open(name_file, 'wb')\n",
    "pickle.dump(regr,myfile)\n",
    "myfile.close()"
   ]
  },
  {
   "cell_type": "code",
   "execution_count": 26,
   "metadata": {
    "colab": {
     "base_uri": "https://localhost:8080/"
    },
    "id": "Mq-OM2SNsO_b",
    "outputId": "62711d09-1048-4c86-e8ad-ccc483f70467"
   },
   "outputs": [
    {
     "name": "stdout",
     "output_type": "stream",
     "text": [
      "[[1.16998236]]\n"
     ]
    }
   ],
   "source": [
    "import pickle #for save the model\n",
    "def conversor(y,model_file):\n",
    "  # load the model with the trained model \n",
    "  ## example, this function can be a web server in django \n",
    "  new_file = open(model_file, 'rb')\n",
    "  clf2 = pickle.load(new_file)\n",
    "  #TODO: use predict of the regressor\n",
    "  y_= clf2.predict(y)\n",
    "  return y_\n",
    "\n",
    "y_=conversor(np.array([5]).reshape(1,1),'water_lab.pkl')\n",
    "# after this point a lot of data engineering would be required...\n",
    "print(y_)"
   ]
  },
  {
   "cell_type": "code",
   "execution_count": 28,
   "metadata": {
    "colab": {
     "base_uri": "https://localhost:8080/"
    },
    "id": "RFOoF-aYsO5J",
    "outputId": "076cf007-0c50-4250-b1fc-dc3b576e62d2"
   },
   "outputs": [
    {
     "name": "stdout",
     "output_type": "stream",
     "text": [
      "Requirement already satisfied: flask-ngrok in d:\\anaconda3\\lib\\site-packages (0.0.25)\n",
      "Requirement already satisfied: requests in d:\\anaconda3\\lib\\site-packages (from flask-ngrok) (2.27.1)\n",
      "Requirement already satisfied: Flask>=0.8 in d:\\anaconda3\\lib\\site-packages (from flask-ngrok) (1.1.2)\n",
      "Requirement already satisfied: Werkzeug>=0.15 in d:\\anaconda3\\lib\\site-packages (from Flask>=0.8->flask-ngrok) (2.0.3)\n",
      "Requirement already satisfied: itsdangerous>=0.24 in d:\\anaconda3\\lib\\site-packages (from Flask>=0.8->flask-ngrok) (2.0.1)\n",
      "Requirement already satisfied: click>=5.1 in d:\\anaconda3\\lib\\site-packages (from Flask>=0.8->flask-ngrok) (8.0.4)\n",
      "Requirement already satisfied: Jinja2>=2.10.1 in d:\\anaconda3\\lib\\site-packages (from Flask>=0.8->flask-ngrok) (2.11.3)\n",
      "Requirement already satisfied: colorama in d:\\anaconda3\\lib\\site-packages (from click>=5.1->Flask>=0.8->flask-ngrok) (0.4.4)\n",
      "Requirement already satisfied: MarkupSafe>=0.23 in d:\\anaconda3\\lib\\site-packages (from Jinja2>=2.10.1->Flask>=0.8->flask-ngrok) (2.0.1)\n",
      "Requirement already satisfied: charset-normalizer~=2.0.0 in d:\\anaconda3\\lib\\site-packages (from requests->flask-ngrok) (2.0.4)\n",
      "Requirement already satisfied: idna<4,>=2.5 in d:\\anaconda3\\lib\\site-packages (from requests->flask-ngrok) (3.3)\n",
      "Requirement already satisfied: certifi>=2017.4.17 in d:\\anaconda3\\lib\\site-packages (from requests->flask-ngrok) (2021.10.8)\n",
      "Requirement already satisfied: urllib3<1.27,>=1.21.1 in d:\\anaconda3\\lib\\site-packages (from requests->flask-ngrok) (1.26.9)\n"
     ]
    }
   ],
   "source": [
    "!pip install flask-ngrok"
   ]
  },
  {
   "cell_type": "code",
   "execution_count": null,
   "metadata": {
    "colab": {
     "base_uri": "https://localhost:8080/"
    },
    "id": "MHuXjSrEtdmr",
    "outputId": "a743a434-8d18-4718-fa0b-34ec14532a8d"
   },
   "outputs": [],
   "source": [
    "from flask_ngrok import run_with_ngrok\n",
    "from flask import Flask\n",
    "from flask import request, jsonify\n",
    "import pickle\n",
    "\n",
    "model_file='water_lab.pkl'\n",
    "new_file = open(model_file, 'rb')\n",
    "clf2 = pickle.load(new_file)\n",
    "app = Flask(__name__)\n",
    "\n",
    "run_with_ngrok(app)   #starts ngrok when the app is run\n",
    "@app.route(\"/\")\n",
    "def home():\n",
    "    return '<h1>This is an api of our machine learning model!</h1> Try api/lab?x=5. <a href=\"api/lab?x=5\">example</a>'\n",
    "\n",
    "@app.route('/api/lab', methods=['GET'])\n",
    "def api_id():\n",
    "    # Check if an x was provided as part of the URL.\n",
    "    if 'y' in request.args:\n",
    "        y = int(request.args['y'])\n",
    "    else:\n",
    "        return \"Error: No id field provided. Please specify the value y.\"\n",
    "    a=clf2.predict(np.array([y]).reshape(1,1))[0][0]\n",
    "    return jsonify(a)\n",
    "app.run()"
   ]
  },
  {
   "cell_type": "code",
   "execution_count": null,
   "metadata": {
    "colab": {
     "base_uri": "https://localhost:8080/"
    },
    "id": "FjUwHUd5tqQT",
    "outputId": "9569d1e9-578e-4e20-9650-16194d910cff"
   },
   "outputs": [],
   "source": [
    "from sklearn.neural_network import MLPRegressor\n",
    "from sklearn.model_selection import cross_val_score\n",
    "\n",
    "\n",
    "regressors = [linear_model.LinearRegression(),linear_model.Ridge(alpha=.7),\n",
    "              MLPRegressor(hidden_layer_sizes=(22,100,),activation='relu',max_iter=100000),\n",
    "              linear_model.RANSACRegressor(random_state=0)]\n",
    "names = ['lineal','ridge 0.7','MLP','RANSAC']\n",
    "#from https://scikit-learn.org/stable/modules/model_evaluation.html#scoring-parameter\n",
    "scoring =['explained_variance',\n",
    "          'neg_mean_absolute_error',\n",
    "          'neg_mean_squared_error',\n",
    "          'neg_mean_squared_log_error',\n",
    "          'neg_median_absolute_error',\n",
    "          'r2']\n",
    "\n",
    "\n",
    "\n",
    "for reg,name in zip(regressors,names):\n",
    "    scores = cross_val_score(reg, z_train, y_train.ravel(), scoring=scoring[5],\n",
    "                            cv=5)\n",
    "    print('--------------------------------------')\n",
    "    print('model {0:20} | score {1:20}'.format(name,scoring[5]))\n",
    "    print('mean {0:22.2f}| std   {1:<22.2f}'.format(scores.mean(),scores.std()))\n",
    "    print(\"Accuracy(95.7%): {0:23.2f} (+/- {1:.2f})\" .format(scores.mean(), scores.std() * 2))"
   ]
  },
  {
   "cell_type": "code",
   "execution_count": null,
   "metadata": {
    "colab": {
     "base_uri": "https://localhost:8080/",
     "height": 331
    },
    "id": "4oS-TzgwunUc",
    "outputId": "0a4be2cc-15ec-4335-dc75-ddedaf11e045"
   },
   "outputs": [],
   "source": [
    "#after this point repeat test and implementation process whith the best model.\n",
    "model=regressors[2].fit(z_train,y_train.ravel())\n",
    "test_model(z_test,y_test,model)"
   ]
  }
 ],
 "metadata": {
  "colab": {
   "collapsed_sections": [],
   "provenance": []
  },
  "kernelspec": {
   "display_name": "Python 3 (ipykernel)",
   "language": "python",
   "name": "python3"
  },
  "language_info": {
   "codemirror_mode": {
    "name": "ipython",
    "version": 3
   },
   "file_extension": ".py",
   "mimetype": "text/x-python",
   "name": "python",
   "nbconvert_exporter": "python",
   "pygments_lexer": "ipython3",
   "version": "3.9.12"
  }
 },
 "nbformat": 4,
 "nbformat_minor": 1
}
